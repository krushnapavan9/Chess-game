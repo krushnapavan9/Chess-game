{
  "nbformat": 4,
  "nbformat_minor": 0,
  "metadata": {
    "colab": {
      "name": "CS690 Assinment1 RIF.ipynb",
      "provenance": [],
      "collapsed_sections": [],
      "mount_file_id": "1uOi6BJbTui-a-MuS5iRW-mr7bB6DF4FT",
      "authorship_tag": "ABX9TyN2ldJSvAK0E6ysNfQfw95K",
      "include_colab_link": true
    },
    "kernelspec": {
      "display_name": "Python 3",
      "name": "python3"
    }
  },
  "cells": [
    {
      "cell_type": "markdown",
      "metadata": {
        "id": "view-in-github",
        "colab_type": "text"
      },
      "source": [
        "<a href=\"https://colab.research.google.com/github/krushnapavan9/Chess-game/blob/master/KP/CS690_Assinment1_RIF.ipynb\" target=\"_parent\"><img src=\"https://colab.research.google.com/assets/colab-badge.svg\" alt=\"Open In Colab\"/></a>"
      ]
    },
    {
      "cell_type": "code",
      "metadata": {
        "id": "iPI88dnN330v"
      },
      "source": [
        "#RIF,STR,KAN\n",
        "import csv\n",
        "import pandas as pd\n",
        "import matplotlib.pyplot as plt"
      ],
      "execution_count": 2,
      "outputs": []
    },
    {
      "cell_type": "code",
      "metadata": {
        "id": "Qmh_p-G73_s0"
      },
      "source": [
        "X_train = pd.read_csv(\"/content/drive/My Drive/CS690 Genomics/X_trainData_1.csv\") \n",
        "Y_train = pd.read_csv(\"/content/drive/My Drive/CS690 Genomics/Y_trainData_1.csv\")\n",
        "X_test = pd.read_csv('/content/drive/My Drive/CS690 Genomics/X_testData_1.csv')\n",
        "Y_tdnl = pd.read_csv('/content/drive/My Drive/CS690 Genomics/Y_testData_1_nolabels (1).csv')"
      ],
      "execution_count": 3,
      "outputs": []
    },
    {
      "cell_type": "code",
      "metadata": {
        "id": "bTtJbrJp4Jf9",
        "outputId": "bf96e702-a2d7-4ceb-85a0-d13aedf0cca5",
        "colab": {
          "base_uri": "https://localhost:8080/"
        }
      },
      "source": [
        "Y_train['RIF'].value_counts().plot(kind = 'bar')"
      ],
      "execution_count": 4,
      "outputs": [
        {
          "output_type": "execute_result",
          "data": {
            "text/plain": [
              "<matplotlib.axes._subplots.AxesSubplot at 0x7f1d7a837b70>"
            ]
          },
          "metadata": {
            "tags": []
          },
          "execution_count": 4
        },
        {
          "output_type": "display_data",
          "data": {
            "image/png": "[encoded data removed]",
            "text/plain": [
              "<Figure size 432x288 with 1 Axes>"
            ]
          },
          "metadata": {
            "tags": [],
            "needs_background": "light"
          }
        }
      ]
    },
    {
      "cell_type": "code",
      "metadata": {
        "id": "elIspSnc4Uhm"
      },
      "source": [
        "#using subset of drugs\n",
        "MY_DRUGS = ['RIF']\n",
        "Y_train = Y_train[MY_DRUGS]\n",
        "Y_tdnl = Y_tdnl[MY_DRUGS]\n",
        "best_models = []"
      ],
      "execution_count": 5,
      "outputs": []
    },
    {
      "cell_type": "code",
      "metadata": {
        "id": "XbXrcyPTIASu"
      },
      "source": [
        "def hyperparameterturning(model,grid):\n",
        "  drug = 'RIF'\n",
        "  X = X_train[Y_train[drug]!=-1]\n",
        "  y  = Y_train[drug][Y_train[drug]!=-1]\n",
        "  cv = StratifiedKFold(n_splits=10, shuffle=True, random_state=1)\n",
        "  grid_search = GridSearchCV(estimator=model, param_grid=grid, n_jobs=-1, cv=cv, scoring='roc_auc',error_score=0)\n",
        "  grid_result = grid_search.fit(X, y)\n",
        "  print(\"Best: %f using %s\" % (grid_result.best_score_, grid_result.best_params_))\n",
        "  model = model.set_params(**grid_result.best_params_)\n",
        "  model.fit(X_train[Y_train[drug]!=-1],Y_train[drug][Y_train[drug]!=-1])\n",
        "  best_models.append(model)"
      ],
      "execution_count": 6,
      "outputs": []
    },
    {
      "cell_type": "code",
      "metadata": {
        "id": "Ey3uJyTSJD9P"
      },
      "source": [
        "from sklearn.model_selection import GridSearchCV\n",
        "from sklearn.model_selection import StratifiedKFold"
      ],
      "execution_count": 7,
      "outputs": []
    },
    {
      "cell_type": "markdown",
      "metadata": {
        "id": "x5KG17UuUBpP"
      },
      "source": [
        "# **LogisticRegression**"
      ]
    },
    {
      "cell_type": "code",
      "metadata": {
        "id": "0dlflXHMJUjS",
        "outputId": "aa832141-ec50-42dc-d4c9-572296ce9ac7",
        "colab": {
          "base_uri": "https://localhost:8080/"
        }
      },
      "source": [
        "from sklearn.linear_model import LogisticRegression\n",
        "\n",
        "model = LogisticRegression()\n",
        "solvers = ['newton-cg', 'lbfgs', 'liblinear','sag', 'saga']\n",
        "penalty = ['l2','l1','elasticnet']\n",
        "c_values = [100, 10, 1.0, 0.1, 0.1]\n",
        "grid = dict(solver=solvers,penalty=penalty,C=c_values)\n",
        "hyperparameterturning(model,grid)"
      ],
      "execution_count": 8,
      "outputs": [
        {
          "output_type": "stream",
          "text": [
            "/usr/local/lib/python3.6/dist-packages/sklearn/linear_model/_sag.py:330: ConvergenceWarning: The max_iter was reached which means the coef_ did not converge\n",
            "  \"the coef_ did not converge\", ConvergenceWarning)\n"
          ],
          "name": "stderr"
        },
        {
          "output_type": "stream",
          "text": [
            "Best: 0.994111 using {'C': 1.0, 'penalty': 'l1', 'solver': 'saga'}\n"
          ],
          "name": "stdout"
        },
        {
          "output_type": "stream",
          "text": [
            "/usr/local/lib/python3.6/dist-packages/sklearn/linear_model/_sag.py:330: ConvergenceWarning: The max_iter was reached which means the coef_ did not converge\n",
            "  \"the coef_ did not converge\", ConvergenceWarning)\n"
          ],
          "name": "stderr"
        }
      ]
    },
    {
      "cell_type": "markdown",
      "metadata": {
        "id": "sa894hfgUJrU"
      },
      "source": [
        "# **SVM**"
      ]
    },
    {
      "cell_type": "code",
      "metadata": {
        "id": "JuDHApdoKMj6",
        "outputId": "35f7117d-362e-4ebc-d6bf-fd41eb40fa61",
        "colab": {
          "base_uri": "https://localhost:8080/",
          "height": 34
        }
      },
      "source": [
        "from sklearn.svm import SVC\n",
        "\n",
        "model = SVC()\n",
        "kernel = ['linear','poly', 'rbf', 'sigmoid']\n",
        "degree = [2,3,4]\n",
        "C = [50, 10, 1.0, 0.1, 0.01]\n",
        "gamma = ['scale','auto']\n",
        "# define grid search\n",
        "grid = dict(kernel=kernel,C=C,gamma=gamma,degree = degree,probability=[True])\n",
        "hyperparameterturning(model,grid)"
      ],
      "execution_count": 9,
      "outputs": [
        {
          "output_type": "stream",
          "text": [
            "Best: 0.994149 using {'C': 50, 'degree': 2, 'gamma': 'auto', 'kernel': 'sigmoid', 'probability': True}\n"
          ],
          "name": "stdout"
        }
      ]
    },
    {
      "cell_type": "markdown",
      "metadata": {
        "id": "DfZOzZyqUNRY"
      },
      "source": [
        "\n",
        "\n",
        "```\n",
        "# This is formatted as code\n",
        "```\n",
        "\n",
        "# **BaggingClassifier**"
      ]
    },
    {
      "cell_type": "code",
      "metadata": {
        "id": "87nvyzs6KTx-",
        "outputId": "de62ebf9-ea31-4208-b65f-4c0c7c8c78d7",
        "colab": {
          "base_uri": "https://localhost:8080/"
        }
      },
      "source": [
        "from sklearn.ensemble import BaggingClassifier\n",
        "\n",
        "model = BaggingClassifier()\n",
        "n_estimators = [10, 100, 1000]\n",
        "# define grid search\n",
        "grid = dict(n_estimators=n_estimators)\n",
        "hyperparameterturning(model,grid)"
      ],
      "execution_count": 10,
      "outputs": [
        {
          "output_type": "stream",
          "text": [
            "Best: 0.992272 using {'n_estimators': 1000}\n"
          ],
          "name": "stdout"
        }
      ]
    },
    {
      "cell_type": "markdown",
      "metadata": {
        "id": "96fD0dHBVIOv"
      },
      "source": [
        "# **RandomForestClassifier**"
      ]
    },
    {
      "cell_type": "code",
      "metadata": {
        "id": "8DfYENwGKy8y",
        "outputId": "8d544c45-e334-4574-e8df-295a60f7921c",
        "colab": {
          "base_uri": "https://localhost:8080/"
        }
      },
      "source": [
        "from sklearn.ensemble import RandomForestClassifier\n",
        "\n",
        "model = RandomForestClassifier()\n",
        "n_estimators = [10, 100, 1000]\n",
        "max_features = ['sqrt', 'log2']\n",
        "# define grid search\n",
        "grid = dict(n_estimators=n_estimators,max_features=max_features)\n",
        "hyperparameterturning(model,grid)"
      ],
      "execution_count": 11,
      "outputs": [
        {
          "output_type": "stream",
          "text": [
            "Best: 0.992036 using {'max_features': 'sqrt', 'n_estimators': 1000}\n"
          ],
          "name": "stdout"
        }
      ]
    },
    {
      "cell_type": "markdown",
      "metadata": {
        "id": "sd-024tqVMA1"
      },
      "source": [
        "# **AdaBoostClassifier**"
      ]
    },
    {
      "cell_type": "code",
      "metadata": {
        "id": "ne04AaY2LBcJ",
        "outputId": "f63863b5-973a-4a25-cd27-a7f96fd332b2",
        "colab": {
          "base_uri": "https://localhost:8080/",
          "height": 119
        }
      },
      "source": [
        "from sklearn.ensemble import AdaBoostClassifier\n",
        "from sklearn.tree import DecisionTreeClassifier\n",
        "model = AdaBoostClassifier()\n",
        "grid = dict()\n",
        "grid['base_estimator'] = []\n",
        "for i in range(1,6):\n",
        "  grid['base_estimator'].append(DecisionTreeClassifier(max_depth=1))\n",
        "grid['n_estimators'] = [10, 50, 100, 500]\n",
        "grid['learning_rate'] = [0.0001, 0.001, 0.01, 0.1, 1.0]\n",
        "hyperparameterturning(model,grid)"
      ],
      "execution_count": 12,
      "outputs": [
        {
          "output_type": "stream",
          "text": [
            "Best: 0.993173 using {'base_estimator': DecisionTreeClassifier(ccp_alpha=0.0, class_weight=None, criterion='gini',\n",
            "                       max_depth=1, max_features=None, max_leaf_nodes=None,\n",
            "                       min_impurity_decrease=0.0, min_impurity_split=None,\n",
            "                       min_samples_leaf=1, min_samples_split=2,\n",
            "                       min_weight_fraction_leaf=0.0, presort='deprecated',\n",
            "                       random_state=None, splitter='best'), 'learning_rate': 0.1, 'n_estimators': 500}\n"
          ],
          "name": "stdout"
        }
      ]
    },
    {
      "cell_type": "code",
      "metadata": {
        "id": "vv9SqUCGQsxQ",
        "outputId": "beea1fbe-f101-42b4-8ccf-bc414c69a1d7",
        "colab": {
          "base_uri": "https://localhost:8080/"
        }
      },
      "source": [
        "pip install kaggle"
      ],
      "execution_count": 13,
      "outputs": [
        {
          "output_type": "stream",
          "text": [
            "Requirement already satisfied: kaggle in /usr/local/lib/python3.6/dist-packages (1.5.8)\n",
            "Requirement already satisfied: slugify in /usr/local/lib/python3.6/dist-packages (from kaggle) (0.0.1)\n",
            "Requirement already satisfied: urllib3<1.25,>=1.21.1 in /usr/local/lib/python3.6/dist-packages (from kaggle) (1.24.3)\n",
            "Requirement already satisfied: tqdm in /usr/local/lib/python3.6/dist-packages (from kaggle) (4.41.1)\n",
            "Requirement already satisfied: requests in /usr/local/lib/python3.6/dist-packages (from kaggle) (2.23.0)\n",
            "Requirement already satisfied: six>=1.10 in /usr/local/lib/python3.6/dist-packages (from kaggle) (1.15.0)\n",
            "Requirement already satisfied: python-slugify in /usr/local/lib/python3.6/dist-packages (from kaggle) (4.0.1)\n",
            "Requirement already satisfied: python-dateutil in /usr/local/lib/python3.6/dist-packages (from kaggle) (2.8.1)\n",
            "Requirement already satisfied: certifi in /usr/local/lib/python3.6/dist-packages (from kaggle) (2020.6.20)\n",
            "Requirement already satisfied: chardet<4,>=3.0.2 in /usr/local/lib/python3.6/dist-packages (from requests->kaggle) (3.0.4)\n",
            "Requirement already satisfied: idna<3,>=2.5 in /usr/local/lib/python3.6/dist-packages (from requests->kaggle) (2.10)\n",
            "Requirement already satisfied: text-unidecode>=1.3 in /usr/local/lib/python3.6/dist-packages (from python-slugify->kaggle) (1.3)\n"
          ],
          "name": "stdout"
        }
      ]
    },
    {
      "cell_type": "code",
      "metadata": {
        "id": "DUvpkk0JebV-"
      },
      "source": [
        "!mkdir -p ~/.kaggle\n",
        "!cp '/content/drive/My Drive/CS690 Genomics/kaggle.json' ~/.kaggle/\n",
        "!chmod 600 /root/.kaggle/kaggle.json"
      ],
      "execution_count": 14,
      "outputs": []
    },
    {
      "cell_type": "code",
      "metadata": {
        "id": "-1IVexqDacii",
        "outputId": "2c2b42ae-c7da-4d48-9630-8baed707c613",
        "colab": {
          "base_uri": "https://localhost:8080/"
        }
      },
      "source": [
        "for model in best_models:\n",
        "  drug ='RIF'\n",
        "  x_test=X_test[Y_tdnl[drug]!='-1']\n",
        "  with open(drug+'_result.csv','w') as f:\n",
        "    f.write('ID,'+drug+'\\n')\n",
        "    for a,b in zip(x_test.index,model.predict_proba(x_test)[:,model.classes_.tolist().index(1)]):\n",
        "      f.write(str(a+1)+','+str(b)+'\\n')\n",
        "  message = str(model)\n",
        "  print(message)\n",
        "  !kaggle competitions submit -c tuberculosis-drug-resistance-prediction-rif -f '/content/RIF_result.csv' -m message"
      ],
      "execution_count": 15,
      "outputs": [
        {
          "output_type": "stream",
          "text": [
            "LogisticRegression(C=1.0, class_weight=None, dual=False, fit_intercept=True,\n",
            "                   intercept_scaling=1, l1_ratio=None, max_iter=100,\n",
            "                   multi_class='auto', n_jobs=None, penalty='l1',\n",
            "                   random_state=None, solver='saga', tol=0.0001, verbose=0,\n",
            "                   warm_start=False)\n",
            "Warning: Looks like you're using an outdated API Version, please consider updating (server 1.5.6 / client 1.5.4)\n",
            "100% 21.5k/21.5k [00:00<00:00, 22.7kB/s]\n",
            "Successfully submitted to Tuberculosis Drug Resistance Prediction - RIFSVC(C=50, break_ties=False, cache_size=200, class_weight=None, coef0=0.0,\n",
            "    decision_function_shape='ovr', degree=2, gamma='auto', kernel='sigmoid',\n",
            "    max_iter=-1, probability=True, random_state=None, shrinking=True, tol=0.001,\n",
            "    verbose=False)\n",
            "Warning: Looks like you're using an outdated API Version, please consider updating (server 1.5.6 / client 1.5.4)\n",
            "100% 21.6k/21.6k [00:01<00:00, 13.2kB/s]\n",
            "Successfully submitted to Tuberculosis Drug Resistance Prediction - RIFBaggingClassifier(base_estimator=None, bootstrap=True, bootstrap_features=False,\n",
            "                  max_features=1.0, max_samples=1.0, n_estimators=1000,\n",
            "                  n_jobs=None, oob_score=False, random_state=None, verbose=0,\n",
            "                  warm_start=False)\n",
            "Warning: Looks like you're using an outdated API Version, please consider updating (server 1.5.6 / client 1.5.4)\n",
            "100% 7.91k/7.91k [00:01<00:00, 5.52kB/s]\n",
            "Successfully submitted to Tuberculosis Drug Resistance Prediction - RIFRandomForestClassifier(bootstrap=True, ccp_alpha=0.0, class_weight=None,\n",
            "                       criterion='gini', max_depth=None, max_features='sqrt',\n",
            "                       max_leaf_nodes=None, max_samples=None,\n",
            "                       min_impurity_decrease=0.0, min_impurity_split=None,\n",
            "                       min_samples_leaf=1, min_samples_split=2,\n",
            "                       min_weight_fraction_leaf=0.0, n_estimators=1000,\n",
            "                       n_jobs=None, oob_score=False, random_state=None,\n",
            "                       verbose=0, warm_start=False)\n",
            "Warning: Looks like you're using an outdated API Version, please consider updating (server 1.5.6 / client 1.5.4)\n",
            "100% 9.55k/9.55k [00:01<00:00, 5.23kB/s]\n",
            "Successfully submitted to Tuberculosis Drug Resistance Prediction - RIFAdaBoostClassifier(algorithm='SAMME.R',\n",
            "                   base_estimator=DecisionTreeClassifier(ccp_alpha=0.0,\n",
            "                                                         class_weight=None,\n",
            "                                                         criterion='gini',\n",
            "                                                         max_depth=1,\n",
            "                                                         max_features=None,\n",
            "                                                         max_leaf_nodes=None,\n",
            "                                                         min_impurity_decrease=0.0,\n",
            "                                                         min_impurity_split=None,\n",
            "                                                         min_samples_leaf=1,\n",
            "                                                         min_samples_split=2,\n",
            "                                                         min_weight_fraction_leaf=0.0,\n",
            "                                                         presort='deprecated',\n",
            "                                                         random_state=None,\n",
            "                                                         splitter='best'),\n",
            "                   learning_rate=0.1, n_estimators=500, random_state=None)\n",
            "Warning: Looks like you're using an outdated API Version, please consider updating (server 1.5.6 / client 1.5.4)\n",
            "100% 21.1k/21.1k [00:01<00:00, 14.2kB/s]\n",
            "Successfully submitted to Tuberculosis Drug Resistance Prediction - RIF"
          ],
          "name": "stdout"
        }
      ]
    },
    {
      "cell_type": "markdown",
      "metadata": {
        "id": "Tqud1hXhCu-C"
      },
      "source": [
        "**logistic regreasion** Best: 0.994109 using {'C': 1.0, 'penalty': 'l1', 'solver': 'saga'} \n",
        "\n",
        "**SVM** Best: 0.993604 using {'C': 10, 'gamma': 'scale', 'kernel': 'rbf', 'probability': True} \n",
        "\n",
        "**Boosting** Best: 0.992240 using {'n_estimators': 1000}\n",
        "\n",
        "**random forest** Best: 0.992096 using {'max_features': 'sqrt', 'n_estimators': 1000}\n",
        "\n",
        "**Adaboost** Best: 0.993173 using {'base_estimator': DecisionTreeClassifier(ccp_alpha=0.0, class_weight=None, criterion='gini',max_depth=1, max_features=None, max_leaf_nodes=None,min_impurity_decrease=0.0, min_impurity_split=None,min_samples_leaf=1, min_samples_split=2,min_weight_fraction_leaf=0.0, presort='deprecated',random_state=None, splitter='best'), 'learning_rate': 0.1, 'n_estimators': 500}\n",
        "\n",
        "\n",
        "\n"
      ]
    }
  ]
}